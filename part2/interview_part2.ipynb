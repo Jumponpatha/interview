{
 "cells": [
  {
   "cell_type": "code",
   "execution_count": 4,
   "metadata": {},
   "outputs": [
    {
     "name": "stdout",
     "output_type": "stream",
     "text": [
      "First Name: Ioannis Last Name: Schroth Gender: male\n"
     ]
    }
   ],
   "source": [
    "# Import requests library\n",
    "import requests\n",
    "\n",
    "# Using get data from API link\n",
    "response = requests.get('https://randomuser.me/api')\n",
    "\n",
    "# print(response.status_code)\n",
    "# print(response.text)\n",
    "\n",
    "data = response.json()\n",
    "\n",
    "users = data['results']\n",
    "\n",
    "# Input data from API link to result\n",
    "for user in users:\n",
    "    first_name = user['name']['first']\n",
    "    last_name = user['name']['last']\n",
    "    gender = user['gender']\n",
    "\n",
    "# Print the result firstname, lastname and gender\n",
    "print(f'First Name: {first_name} Last Name: {last_name} Gender: {gender}')"
   ]
  },
  {
   "cell_type": "code",
   "execution_count": 6,
   "metadata": {},
   "outputs": [
    {
     "name": "stdout",
     "output_type": "stream",
     "text": [
      "{\"results\":[{\"gender\":\"male\",\"name\":{\"title\":\"Mr\",\"first\":\"Ioannis\",\"last\":\"Schroth\"},\"location\":{\"street\":{\"number\":1590,\"name\":\"Am Sportplatz\"},\"city\":\"Landsberg A. Lech\",\"state\":\"Thüringen\",\"country\":\"Germany\",\"postcode\":70911,\"coordinates\":{\"latitude\":\"-54.9987\",\"longitude\":\"-38.0798\"},\"timezone\":{\"offset\":\"-3:30\",\"description\":\"Newfoundland\"}},\"email\":\"ioannis.schroth@example.com\",\"login\":{\"uuid\":\"7c5207fa-4af7-42c0-8bbb-e0a9f7df2808\",\"username\":\"sadpanda920\",\"password\":\"profit\",\"salt\":\"qQ8BkYdF\",\"md5\":\"320e895f1c1a990fe406867b84619f26\",\"sha1\":\"53f4629008a9408afe74edc5578ad59ac092cc6f\",\"sha256\":\"2d44352bd74db3964a34820945bf96f91ef7a0874caa2a4d693a6f5347668361\"},\"dob\":{\"date\":\"1946-06-19T13:38:09.484Z\",\"age\":77},\"registered\":{\"date\":\"2014-12-14T13:54:31.315Z\",\"age\":9},\"phone\":\"0948-9150563\",\"cell\":\"0170-2771719\",\"id\":{\"name\":\"SVNR\",\"value\":\"66 190646 S 089\"},\"picture\":{\"large\":\"https://randomuser.me/api/portraits/men/58.jpg\",\"medium\":\"https://randomuser.me/api/portraits/med/men/58.jpg\",\"thumbnail\":\"https://randomuser.me/api/portraits/thumb/men/58.jpg\"},\"nat\":\"DE\"}],\"info\":{\"seed\":\"28c1f34186d9613d\",\"results\":1,\"page\":1,\"version\":\"1.4\"}}\n"
     ]
    }
   ],
   "source": [
    "print(response.text)"
   ]
  },
  {
   "cell_type": "code",
   "execution_count": 5,
   "metadata": {},
   "outputs": [
    {
     "name": "stdout",
     "output_type": "stream",
     "text": [
      "200\n"
     ]
    }
   ],
   "source": [
    "print(response.status_code)"
   ]
  }
 ],
 "metadata": {
  "kernelspec": {
   "display_name": "base",
   "language": "python",
   "name": "python3"
  },
  "language_info": {
   "codemirror_mode": {
    "name": "ipython",
    "version": 3
   },
   "file_extension": ".py",
   "mimetype": "text/x-python",
   "name": "python",
   "nbconvert_exporter": "python",
   "pygments_lexer": "ipython3",
   "version": "3.11.5"
  }
 },
 "nbformat": 4,
 "nbformat_minor": 2
}
