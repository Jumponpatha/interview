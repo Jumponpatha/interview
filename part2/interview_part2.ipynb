{
 "cells": [
  {
   "cell_type": "markdown",
   "metadata": {},
   "source": [
    "1. สุ่มเลือกผู้ใช้งานในระบบ 20 คน โดยการเรียก API และเก็บข้อมูล ชื่อ นามสกุล และ เพศ https://randomuser.me/api"
   ]
  },
  {
   "cell_type": "code",
   "execution_count": 5,
   "metadata": {},
   "outputs": [
    {
     "name": "stdout",
     "output_type": "stream",
     "text": [
      "First Name: Sara Last Name: Mikkola Gender: female\n"
     ]
    }
   ],
   "source": [
    "# Import requests library\n",
    "import requests\n",
    "\n",
    "# Using get data from API link\n",
    "response = requests.get('https://randomuser.me/api')\n",
    "\n",
    "# print(response.status_code)\n",
    "# print(response.text)\n",
    "\n",
    "data = response.json()\n",
    "\n",
    "users = data['results']\n",
    "\n",
    "# Input data from API link to result\n",
    "for user in users:\n",
    "    first_name = user['name']['first']\n",
    "    last_name = user['name']['last']\n",
    "    gender = user['gender']\n",
    "\n",
    "# Print the result firstname, lastname and gender\n",
    "print(f'First Name: {first_name} Last Name: {last_name} Gender: {gender}')"
   ]
  },
  {
   "cell_type": "code",
   "execution_count": 6,
   "metadata": {},
   "outputs": [
    {
     "name": "stdout",
     "output_type": "stream",
     "text": [
      "{\"results\":[{\"gender\":\"female\",\"name\":{\"title\":\"Mrs\",\"first\":\"Sara\",\"last\":\"Mikkola\"},\"location\":{\"street\":{\"number\":395,\"name\":\"Rotuaari\"},\"city\":\"Toivakka\",\"state\":\"Central Finland\",\"country\":\"Finland\",\"postcode\":53700,\"coordinates\":{\"latitude\":\"-29.1946\",\"longitude\":\"21.1405\"},\"timezone\":{\"offset\":\"+9:30\",\"description\":\"Adelaide, Darwin\"}},\"email\":\"sara.mikkola@example.com\",\"login\":{\"uuid\":\"e97e0be0-724a-4fb2-b230-4cde768ecaa8\",\"username\":\"beautifulfish799\",\"password\":\"collins\",\"salt\":\"iqN8Rloi\",\"md5\":\"d196a2e9de82cbf5d22098e923430b1f\",\"sha1\":\"2c3573b46156aa3e0291cb221af2c032e07409e4\",\"sha256\":\"f4cb4b46de6c79e8126233fc7e2ae978eefe87fb3be84aaaa4df07539bc2cf32\"},\"dob\":{\"date\":\"1991-06-23T20:06:31.988Z\",\"age\":32},\"registered\":{\"date\":\"2020-07-06T13:24:08.662Z\",\"age\":3},\"phone\":\"05-597-665\",\"cell\":\"046-160-59-66\",\"id\":{\"name\":\"HETU\",\"value\":\"NaNNA190undefined\"},\"picture\":{\"large\":\"https://randomuser.me/api/portraits/women/46.jpg\",\"medium\":\"https://randomuser.me/api/portraits/med/women/46.jpg\",\"thumbnail\":\"https://randomuser.me/api/portraits/thumb/women/46.jpg\"},\"nat\":\"FI\"}],\"info\":{\"seed\":\"9fd183d728f27845\",\"results\":1,\"page\":1,\"version\":\"1.4\"}}\n"
     ]
    }
   ],
   "source": [
    "print(response.text)"
   ]
  },
  {
   "cell_type": "code",
   "execution_count": 8,
   "metadata": {},
   "outputs": [
    {
     "name": "stdout",
     "output_type": "stream",
     "text": [
      "{'results': [{'gender': 'female', 'name': {'title': 'Mrs', 'first': 'Sara', 'last': 'Mikkola'}, 'location': {'street': {'number': 395, 'name': 'Rotuaari'}, 'city': 'Toivakka', 'state': 'Central Finland', 'country': 'Finland', 'postcode': 53700, 'coordinates': {'latitude': '-29.1946', 'longitude': '21.1405'}, 'timezone': {'offset': '+9:30', 'description': 'Adelaide, Darwin'}}, 'email': 'sara.mikkola@example.com', 'login': {'uuid': 'e97e0be0-724a-4fb2-b230-4cde768ecaa8', 'username': 'beautifulfish799', 'password': 'collins', 'salt': 'iqN8Rloi', 'md5': 'd196a2e9de82cbf5d22098e923430b1f', 'sha1': '2c3573b46156aa3e0291cb221af2c032e07409e4', 'sha256': 'f4cb4b46de6c79e8126233fc7e2ae978eefe87fb3be84aaaa4df07539bc2cf32'}, 'dob': {'date': '1991-06-23T20:06:31.988Z', 'age': 32}, 'registered': {'date': '2020-07-06T13:24:08.662Z', 'age': 3}, 'phone': '05-597-665', 'cell': '046-160-59-66', 'id': {'name': 'HETU', 'value': 'NaNNA190undefined'}, 'picture': {'large': 'https://randomuser.me/api/portraits/women/46.jpg', 'medium': 'https://randomuser.me/api/portraits/med/women/46.jpg', 'thumbnail': 'https://randomuser.me/api/portraits/thumb/women/46.jpg'}, 'nat': 'FI'}], 'info': {'seed': '9fd183d728f27845', 'results': 1, 'page': 1, 'version': '1.4'}}\n"
     ]
    }
   ],
   "source": [
    "print(data)"
   ]
  },
  {
   "cell_type": "code",
   "execution_count": 5,
   "metadata": {},
   "outputs": [
    {
     "name": "stdout",
     "output_type": "stream",
     "text": [
      "200\n"
     ]
    }
   ],
   "source": [
    "print(response.status_code)"
   ]
  },
  {
   "cell_type": "markdown",
   "metadata": {},
   "source": [
    "2. เรียก API เพื่อทำนายเพศของผู้ใช้ในข้อที่ 1 และเก็บข้อมูล เพศและความน่าจะเป็น (probability)\n",
    "https://api.genderize.io/?name= "
   ]
  },
  {
   "cell_type": "code",
   "execution_count": 2,
   "metadata": {},
   "outputs": [
    {
     "name": "stdout",
     "output_type": "stream",
     "text": [
      "{\"count\":11,\"name\":\" \",\"gender\":\"male\",\"probability\":0.82}\n"
     ]
    }
   ],
   "source": [
    "import requests\n",
    "\n",
    "x = requests.get('https://api.genderize.io/?name= ')\n",
    "print(x.text)"
   ]
  },
  {
   "cell_type": "code",
   "execution_count": 3,
   "metadata": {},
   "outputs": [
    {
     "name": "stdout",
     "output_type": "stream",
     "text": [
      "Name: Ulrik Bjørnstad, Gender: male\n",
      "Name: Floyd Owens, Gender: male\n",
      "Name: حسین سالاری, Gender: male\n",
      "Name: Fátima Arias, Gender: female\n",
      "Name: Gitta Thiem, Gender: female\n",
      "Name: Eemil Heikkinen, Gender: male\n",
      "Name: Ben Lehmann, Gender: male\n",
      "Name: Oliver Niemela, Gender: male\n",
      "Name: Juliette Gagnon, Gender: female\n",
      "Name: Aatu Halla, Gender: male\n",
      "Name: Stefani Verhoog, Gender: female\n",
      "Name: Rusan Guliy, Gender: male\n",
      "Name: Alexandre Chow, Gender: male\n",
      "Name: Svetislav Kojić, Gender: male\n",
      "Name: رها کوتی, Gender: female\n",
      "Name: Nuria Núñez, Gender: female\n",
      "Name: Owen Carpentier, Gender: male\n",
      "Name: Esat Adal, Gender: male\n",
      "Name: Patryk Rongved, Gender: male\n",
      "Name: آنیتا گلشن, Gender: female\n"
     ]
    }
   ],
   "source": [
    "import requests\n",
    "\n",
    "# Function to fetch user data from randomuser.me API\n",
    "def get_random_users(num_users=20):\n",
    "    response = requests.get(f'https://randomuser.me/api/?results={num_users}')\n",
    "    data = response.json()\n",
    "    return data['results']\n",
    "\n",
    "# Get random users\n",
    "random_users = get_random_users()\n",
    "\n",
    "# Display user data\n",
    "for user in random_users:\n",
    "    print(f\"Name: {user['name']['first']} {user['name']['last']}, Gender: {user['gender']}\")"
   ]
  },
  {
   "cell_type": "code",
   "execution_count": 16,
   "metadata": {},
   "outputs": [
    {
     "name": "stdout",
     "output_type": "stream",
     "text": [
      "{'results': [{'gender': 'female', 'name': {'title': 'Mrs', 'first': 'Sara', 'last': 'Mikkola'}, 'location': {'street': {'number': 395, 'name': 'Rotuaari'}, 'city': 'Toivakka', 'state': 'Central Finland', 'country': 'Finland', 'postcode': 53700, 'coordinates': {'latitude': '-29.1946', 'longitude': '21.1405'}, 'timezone': {'offset': '+9:30', 'description': 'Adelaide, Darwin'}}, 'email': 'sara.mikkola@example.com', 'login': {'uuid': 'e97e0be0-724a-4fb2-b230-4cde768ecaa8', 'username': 'beautifulfish799', 'password': 'collins', 'salt': 'iqN8Rloi', 'md5': 'd196a2e9de82cbf5d22098e923430b1f', 'sha1': '2c3573b46156aa3e0291cb221af2c032e07409e4', 'sha256': 'f4cb4b46de6c79e8126233fc7e2ae978eefe87fb3be84aaaa4df07539bc2cf32'}, 'dob': {'date': '1991-06-23T20:06:31.988Z', 'age': 32}, 'registered': {'date': '2020-07-06T13:24:08.662Z', 'age': 3}, 'phone': '05-597-665', 'cell': '046-160-59-66', 'id': {'name': 'HETU', 'value': 'NaNNA190undefined'}, 'picture': {'large': 'https://randomuser.me/api/portraits/women/46.jpg', 'medium': 'https://randomuser.me/api/portraits/med/women/46.jpg', 'thumbnail': 'https://randomuser.me/api/portraits/thumb/women/46.jpg'}, 'nat': 'FI'}], 'info': {'seed': '9fd183d728f27845', 'results': 1, 'page': 1, 'version': '1.4'}}\n"
     ]
    }
   ],
   "source": [
    "print(data)"
   ]
  },
  {
   "cell_type": "code",
   "execution_count": 4,
   "metadata": {},
   "outputs": [
    {
     "name": "stdout",
     "output_type": "stream",
     "text": [
      "Name: Ulrik, Predicted Gender: male, Probability: 1.0\n",
      "Name: Floyd, Predicted Gender: male, Probability: 1.0\n",
      "Name: حسین, Predicted Gender: male, Probability: 1.0\n",
      "Name: Fátima, Predicted Gender: female, Probability: 1.0\n",
      "Name: Gitta, Predicted Gender: female, Probability: 0.99\n",
      "Name: Eemil, Predicted Gender: male, Probability: 0.99\n",
      "Name: Ben, Predicted Gender: male, Probability: 0.99\n",
      "Name: Oliver, Predicted Gender: male, Probability: 1.0\n",
      "Name: Juliette, Predicted Gender: female, Probability: 0.99\n",
      "Name: Aatu, Predicted Gender: male, Probability: 0.98\n",
      "Name: Stefani, Predicted Gender: female, Probability: 0.99\n",
      "Name: Rusan, Predicted Gender: None, Probability: None\n",
      "Name: Alexandre, Predicted Gender: None, Probability: None\n",
      "Name: Svetislav, Predicted Gender: None, Probability: None\n",
      "Name: رها, Predicted Gender: None, Probability: None\n",
      "Name: Nuria, Predicted Gender: None, Probability: None\n",
      "Name: Owen, Predicted Gender: None, Probability: None\n",
      "Name: Esat, Predicted Gender: None, Probability: None\n",
      "Name: Patryk, Predicted Gender: None, Probability: None\n",
      "Name: آنیتا, Predicted Gender: None, Probability: None\n"
     ]
    }
   ],
   "source": [
    "genderize_api_url = 'https://api.genderize.io/?name='\n",
    "\n",
    "# Function to get gender prediction for a given name\n",
    "def get_gender_prediction(name):\n",
    "    response = requests.get(genderize_api_url + name)\n",
    "    data = response.json()\n",
    "    return data\n",
    "\n",
    "# Get gender prediction for each user\n",
    "gender_predictions = []\n",
    "for user in random_users:\n",
    "    name = user['name']['first']\n",
    "    gender_prediction = get_gender_prediction(name)\n",
    "    gender_predictions.append({\n",
    "        'name': name,\n",
    "        'gender': gender_prediction.get('gender'),\n",
    "        'probability': gender_prediction.get('probability')\n",
    "    })\n",
    "\n",
    "# Display gender predictions\n",
    "for prediction in gender_predictions:\n",
    "    print(f\"Name: {prediction['name']}, Predicted Gender: {prediction['gender']}, Probability: {prediction['probability']}\")\n"
   ]
  },
  {
   "cell_type": "code",
   "execution_count": 14,
   "metadata": {},
   "outputs": [
    {
     "ename": "KeyError",
     "evalue": "'name.first'",
     "output_type": "error",
     "traceback": [
      "\u001b[1;31m---------------------------------------------------------------------------\u001b[0m",
      "\u001b[1;31mKeyError\u001b[0m                                  Traceback (most recent call last)",
      "Cell \u001b[1;32mIn[14], line 10\u001b[0m\n\u001b[0;32m      7\u001b[0m prediction_df \u001b[38;5;241m=\u001b[39m pd\u001b[38;5;241m.\u001b[39mDataFrame(gender_predictions)\n\u001b[0;32m      9\u001b[0m \u001b[38;5;66;03m# Merge DataFrames on the 'name' column\u001b[39;00m\n\u001b[1;32m---> 10\u001b[0m merged_df \u001b[38;5;241m=\u001b[39m \u001b[43mpd\u001b[49m\u001b[38;5;241;43m.\u001b[39;49m\u001b[43mmerge\u001b[49m\u001b[43m(\u001b[49m\u001b[43muser_df\u001b[49m\u001b[43m,\u001b[49m\u001b[43m \u001b[49m\u001b[43mprediction_df\u001b[49m\u001b[43m,\u001b[49m\u001b[43m \u001b[49m\u001b[43mleft_on\u001b[49m\u001b[38;5;241;43m=\u001b[39;49m\u001b[38;5;124;43m'\u001b[39;49m\u001b[38;5;124;43mname.first\u001b[39;49m\u001b[38;5;124;43m'\u001b[39;49m\u001b[43m,\u001b[49m\u001b[43m \u001b[49m\u001b[43mright_on\u001b[49m\u001b[38;5;241;43m=\u001b[39;49m\u001b[38;5;124;43m'\u001b[39;49m\u001b[38;5;124;43mname\u001b[39;49m\u001b[38;5;124;43m'\u001b[39;49m\u001b[43m)\u001b[49m\n\u001b[0;32m     12\u001b[0m \u001b[38;5;66;03m# Display the merged DataFrame\u001b[39;00m\n\u001b[0;32m     13\u001b[0m \u001b[38;5;28mprint\u001b[39m(merged_df)\n",
      "File \u001b[1;32mc:\\Users\\acer\\anaconda3\\Lib\\site-packages\\pandas\\core\\reshape\\merge.py:148\u001b[0m, in \u001b[0;36mmerge\u001b[1;34m(left, right, how, on, left_on, right_on, left_index, right_index, sort, suffixes, copy, indicator, validate)\u001b[0m\n\u001b[0;32m    131\u001b[0m \u001b[38;5;129m@Substitution\u001b[39m(\u001b[38;5;124m\"\u001b[39m\u001b[38;5;130;01m\\n\u001b[39;00m\u001b[38;5;124mleft : DataFrame or named Series\u001b[39m\u001b[38;5;124m\"\u001b[39m)\n\u001b[0;32m    132\u001b[0m \u001b[38;5;129m@Appender\u001b[39m(_merge_doc, indents\u001b[38;5;241m=\u001b[39m\u001b[38;5;241m0\u001b[39m)\n\u001b[0;32m    133\u001b[0m \u001b[38;5;28;01mdef\u001b[39;00m \u001b[38;5;21mmerge\u001b[39m(\n\u001b[1;32m   (...)\u001b[0m\n\u001b[0;32m    146\u001b[0m     validate: \u001b[38;5;28mstr\u001b[39m \u001b[38;5;241m|\u001b[39m \u001b[38;5;28;01mNone\u001b[39;00m \u001b[38;5;241m=\u001b[39m \u001b[38;5;28;01mNone\u001b[39;00m,\n\u001b[0;32m    147\u001b[0m ) \u001b[38;5;241m-\u001b[39m\u001b[38;5;241m>\u001b[39m DataFrame:\n\u001b[1;32m--> 148\u001b[0m     op \u001b[38;5;241m=\u001b[39m \u001b[43m_MergeOperation\u001b[49m\u001b[43m(\u001b[49m\n\u001b[0;32m    149\u001b[0m \u001b[43m        \u001b[49m\u001b[43mleft\u001b[49m\u001b[43m,\u001b[49m\n\u001b[0;32m    150\u001b[0m \u001b[43m        \u001b[49m\u001b[43mright\u001b[49m\u001b[43m,\u001b[49m\n\u001b[0;32m    151\u001b[0m \u001b[43m        \u001b[49m\u001b[43mhow\u001b[49m\u001b[38;5;241;43m=\u001b[39;49m\u001b[43mhow\u001b[49m\u001b[43m,\u001b[49m\n\u001b[0;32m    152\u001b[0m \u001b[43m        \u001b[49m\u001b[43mon\u001b[49m\u001b[38;5;241;43m=\u001b[39;49m\u001b[43mon\u001b[49m\u001b[43m,\u001b[49m\n\u001b[0;32m    153\u001b[0m \u001b[43m        \u001b[49m\u001b[43mleft_on\u001b[49m\u001b[38;5;241;43m=\u001b[39;49m\u001b[43mleft_on\u001b[49m\u001b[43m,\u001b[49m\n\u001b[0;32m    154\u001b[0m \u001b[43m        \u001b[49m\u001b[43mright_on\u001b[49m\u001b[38;5;241;43m=\u001b[39;49m\u001b[43mright_on\u001b[49m\u001b[43m,\u001b[49m\n\u001b[0;32m    155\u001b[0m \u001b[43m        \u001b[49m\u001b[43mleft_index\u001b[49m\u001b[38;5;241;43m=\u001b[39;49m\u001b[43mleft_index\u001b[49m\u001b[43m,\u001b[49m\n\u001b[0;32m    156\u001b[0m \u001b[43m        \u001b[49m\u001b[43mright_index\u001b[49m\u001b[38;5;241;43m=\u001b[39;49m\u001b[43mright_index\u001b[49m\u001b[43m,\u001b[49m\n\u001b[0;32m    157\u001b[0m \u001b[43m        \u001b[49m\u001b[43msort\u001b[49m\u001b[38;5;241;43m=\u001b[39;49m\u001b[43msort\u001b[49m\u001b[43m,\u001b[49m\n\u001b[0;32m    158\u001b[0m \u001b[43m        \u001b[49m\u001b[43msuffixes\u001b[49m\u001b[38;5;241;43m=\u001b[39;49m\u001b[43msuffixes\u001b[49m\u001b[43m,\u001b[49m\n\u001b[0;32m    159\u001b[0m \u001b[43m        \u001b[49m\u001b[43mindicator\u001b[49m\u001b[38;5;241;43m=\u001b[39;49m\u001b[43mindicator\u001b[49m\u001b[43m,\u001b[49m\n\u001b[0;32m    160\u001b[0m \u001b[43m        \u001b[49m\u001b[43mvalidate\u001b[49m\u001b[38;5;241;43m=\u001b[39;49m\u001b[43mvalidate\u001b[49m\u001b[43m,\u001b[49m\n\u001b[0;32m    161\u001b[0m \u001b[43m    \u001b[49m\u001b[43m)\u001b[49m\n\u001b[0;32m    162\u001b[0m     \u001b[38;5;28;01mreturn\u001b[39;00m op\u001b[38;5;241m.\u001b[39mget_result(copy\u001b[38;5;241m=\u001b[39mcopy)\n",
      "File \u001b[1;32mc:\\Users\\acer\\anaconda3\\Lib\\site-packages\\pandas\\core\\reshape\\merge.py:737\u001b[0m, in \u001b[0;36m_MergeOperation.__init__\u001b[1;34m(self, left, right, how, on, left_on, right_on, axis, left_index, right_index, sort, suffixes, indicator, validate)\u001b[0m\n\u001b[0;32m    730\u001b[0m \u001b[38;5;28mself\u001b[39m\u001b[38;5;241m.\u001b[39m_cross \u001b[38;5;241m=\u001b[39m cross_col\n\u001b[0;32m    732\u001b[0m \u001b[38;5;66;03m# note this function has side effects\u001b[39;00m\n\u001b[0;32m    733\u001b[0m (\n\u001b[0;32m    734\u001b[0m     \u001b[38;5;28mself\u001b[39m\u001b[38;5;241m.\u001b[39mleft_join_keys,\n\u001b[0;32m    735\u001b[0m     \u001b[38;5;28mself\u001b[39m\u001b[38;5;241m.\u001b[39mright_join_keys,\n\u001b[0;32m    736\u001b[0m     \u001b[38;5;28mself\u001b[39m\u001b[38;5;241m.\u001b[39mjoin_names,\n\u001b[1;32m--> 737\u001b[0m ) \u001b[38;5;241m=\u001b[39m \u001b[38;5;28;43mself\u001b[39;49m\u001b[38;5;241;43m.\u001b[39;49m\u001b[43m_get_merge_keys\u001b[49m\u001b[43m(\u001b[49m\u001b[43m)\u001b[49m\n\u001b[0;32m    739\u001b[0m \u001b[38;5;66;03m# validate the merge keys dtypes. We may need to coerce\u001b[39;00m\n\u001b[0;32m    740\u001b[0m \u001b[38;5;66;03m# to avoid incompatible dtypes\u001b[39;00m\n\u001b[0;32m    741\u001b[0m \u001b[38;5;28mself\u001b[39m\u001b[38;5;241m.\u001b[39m_maybe_coerce_merge_keys()\n",
      "File \u001b[1;32mc:\\Users\\acer\\anaconda3\\Lib\\site-packages\\pandas\\core\\reshape\\merge.py:1221\u001b[0m, in \u001b[0;36m_MergeOperation._get_merge_keys\u001b[1;34m(self)\u001b[0m\n\u001b[0;32m   1217\u001b[0m \u001b[38;5;28;01mif\u001b[39;00m lk \u001b[38;5;129;01mis\u001b[39;00m \u001b[38;5;129;01mnot\u001b[39;00m \u001b[38;5;28;01mNone\u001b[39;00m:\n\u001b[0;32m   1218\u001b[0m     \u001b[38;5;66;03m# Then we're either Hashable or a wrong-length arraylike,\u001b[39;00m\n\u001b[0;32m   1219\u001b[0m     \u001b[38;5;66;03m#  the latter of which will raise\u001b[39;00m\n\u001b[0;32m   1220\u001b[0m     lk \u001b[38;5;241m=\u001b[39m cast(Hashable, lk)\n\u001b[1;32m-> 1221\u001b[0m     left_keys\u001b[38;5;241m.\u001b[39mappend(\u001b[43mleft\u001b[49m\u001b[38;5;241;43m.\u001b[39;49m\u001b[43m_get_label_or_level_values\u001b[49m\u001b[43m(\u001b[49m\u001b[43mlk\u001b[49m\u001b[43m)\u001b[49m)\n\u001b[0;32m   1222\u001b[0m     join_names\u001b[38;5;241m.\u001b[39mappend(lk)\n\u001b[0;32m   1223\u001b[0m \u001b[38;5;28;01melse\u001b[39;00m:\n\u001b[0;32m   1224\u001b[0m     \u001b[38;5;66;03m# work-around for merge_asof(left_index=True)\u001b[39;00m\n",
      "File \u001b[1;32mc:\\Users\\acer\\anaconda3\\Lib\\site-packages\\pandas\\core\\generic.py:1778\u001b[0m, in \u001b[0;36mNDFrame._get_label_or_level_values\u001b[1;34m(self, key, axis)\u001b[0m\n\u001b[0;32m   1776\u001b[0m     values \u001b[38;5;241m=\u001b[39m \u001b[38;5;28mself\u001b[39m\u001b[38;5;241m.\u001b[39maxes[axis]\u001b[38;5;241m.\u001b[39mget_level_values(key)\u001b[38;5;241m.\u001b[39m_values\n\u001b[0;32m   1777\u001b[0m \u001b[38;5;28;01melse\u001b[39;00m:\n\u001b[1;32m-> 1778\u001b[0m     \u001b[38;5;28;01mraise\u001b[39;00m \u001b[38;5;167;01mKeyError\u001b[39;00m(key)\n\u001b[0;32m   1780\u001b[0m \u001b[38;5;66;03m# Check for duplicates\u001b[39;00m\n\u001b[0;32m   1781\u001b[0m \u001b[38;5;28;01mif\u001b[39;00m values\u001b[38;5;241m.\u001b[39mndim \u001b[38;5;241m>\u001b[39m \u001b[38;5;241m1\u001b[39m:\n",
      "\u001b[1;31mKeyError\u001b[0m: 'name.first'"
     ]
    }
   ],
   "source": [
    "import pandas as pd\n",
    "\n",
    "# Create DataFrame for user data\n",
    "user_df = pd.DataFrame(random_users)\n",
    "\n",
    "# Create DataFrame for gender predictions\n",
    "prediction_df = pd.DataFrame(gender_predictions)\n",
    "\n",
    "# Merge DataFrames on the 'name' column\n",
    "merged_df = pd.merge(user_df, prediction_df, left_on='name.first', right_on='name')\n",
    "\n",
    "# Display the merged DataFrame\n",
    "print(merged_df)\n"
   ]
  }
 ],
 "metadata": {
  "kernelspec": {
   "display_name": "base",
   "language": "python",
   "name": "python3"
  },
  "language_info": {
   "codemirror_mode": {
    "name": "ipython",
    "version": 3
   },
   "file_extension": ".py",
   "mimetype": "text/x-python",
   "name": "python",
   "nbconvert_exporter": "python",
   "pygments_lexer": "ipython3",
   "version": "3.11.5"
  }
 },
 "nbformat": 4,
 "nbformat_minor": 2
}
